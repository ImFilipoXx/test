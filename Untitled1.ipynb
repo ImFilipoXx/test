{
 "cells": [
  {
   "cell_type": "code",
   "execution_count": 7,
   "id": "0c965b9f-85cb-4fc5-ad9a-2e5be1d1f2f2",
   "metadata": {},
   "outputs": [
    {
     "name": "stdout",
     "output_type": "stream",
     "text": [
      "Overwriting ejercicio_1.cpp\n"
     ]
    }
   ],
   "source": [
    "%%writefile ejercicio_1.cpp\n",
    "\n",
    "#include <iostream>\n",
    "using namespace std;\n",
    "int main(){\n",
    "    int i;\n",
    "    for(i=0; i<10; i++)\n",
    "        switch(i){\n",
    "         case 1:\n",
    "           std::cout <<\"i is zero\"<< endl;\n",
    "            break;\n",
    "case 2:\n",
    "std::cout <<\"i is one\"<< endl;\n",
    "\n",
    "break;\n",
    "\n",
    "case 3:\n",
    "           std::cout <<\"i is three\"<< endl;\n",
    "            break;\n",
    "case 4:\n",
    "           std::cout <<\"i is four\"<< endl;\n",
    "            break;\n",
    "deafult:\n",
    "           std::cout <<\"i is five or more\"<< endl;\n",
    "\n",
    "}\n",
    "return 0;\n",
    "}\n"
   ]
  },
  {
   "cell_type": "code",
   "execution_count": 9,
   "id": "0d50f854-20c3-4900-abf2-311140417202",
   "metadata": {},
   "outputs": [],
   "source": [
    "!g++ ejercicio_1.cpp -o ejercicio_1"
   ]
  },
  {
   "cell_type": "code",
   "execution_count": null,
   "id": "0ae0fa4c-92fd-4296-a289-df0c12b22add",
   "metadata": {},
   "outputs": [],
   "source": [
    "%%writefile ejercicio_2.cpp\n",
    "\n",
    "#include <iostream>\n",
    "using namespace std;\n",
    "\n",
    "int main(){\n",
    "for(i=0; i<=5; i++) {\n",
    "\n",
    "switch(i){\n",
    "case 0:\n",
    "    std::cout<<\"i is less than one\"<< endl;\n",
    "case 1:\n",
    "    std::cout<<\"i is less than two\"<< endl;\n",
    "case 2:\n",
    "    std::cout<<\"i is less than three\"<< endl;\n",
    "case 3:\n",
    "    std::cout<<\"i is less than four\"<< endl;\n",
    "case 4:\n",
    "    std::cout<<\"i is less than five\"<< endl;\n",
    "}\n",
    "return 0;\n",
    "}\n"
   ]
  },
  {
   "cell_type": "code",
   "execution_count": 10,
   "id": "c3b8b471-9341-46ba-b5cc-e404eca45b55",
   "metadata": {},
   "outputs": [
    {
     "name": "stdout",
     "output_type": "stream",
     "text": [
      "Writing ejercicio_3.cpp\n"
     ]
    }
   ],
   "source": [
    "%%writefile ejercicio_3.cpp\n",
    "\n",
    "#include <iostream>\n",
    "using namespace std;\n",
    "int main(){\n",
    "char choice;\n",
    "std::cout<<\"Help on:\"<< endl;\n",
    "std::cout<<\"1.if\"<<endl;\n",
    "std::cout<<\"2.switch\"<<endl;\n",
    "std::cout<<\"Choose one\"<<endl;\n",
    "std::cin >> choice;\n",
    "\n",
    "switch(choice) {\n",
    "case '1':\n",
    "std::cout<<\"The if\\n:\"<<endl;\n",
    "std::cout<<\"if(condition) statement;\"<<endl;\n",
    "std::cout<<\"else statement\"<<endl;\n",
    "break;\n",
    "case '2':\n",
    "std::cout<<\"The witch:\\n:\"<<endl;\n",
    "std::cout<<\"switch(expresion) {\"<<endl;\n",
    "std::cout<<\"case constant:\"<<endl;\n",
    "std::cout<<\"statement sequence\"<<endl;\n",
    "std::cout<<\"break;\"<<endl;\n",
    "std::cout<<\" /\"<<\"/ ...\"<<endl;\n",
    "std::cout<<\"}:\"<<endl;\n",
    "break;\n",
    "deafult:\n",
    "std::cout<<\"Selection not found\"<<endl;\n",
    "}\n",
    "\n",
    "return 0;\n",
    "}\n",
    "\n",
    "\n",
    "\n",
    "\n",
    "\n"
   ]
  },
  {
   "cell_type": "code",
   "execution_count": 11,
   "id": "a475dc31-9cf4-4055-8875-48b88201bd15",
   "metadata": {},
   "outputs": [],
   "source": [
    "!g++ ejercicio_3.cpp -o ejercicio_3"
   ]
  },
  {
   "cell_type": "code",
   "execution_count": null,
   "id": "545b8f47-4d35-46ba-8b9d-b0bbb9d1d11e",
   "metadata": {},
   "outputs": [],
   "source": []
  }
 ],
 "metadata": {
  "kernelspec": {
   "display_name": "Python 3 (ipykernel)",
   "language": "python",
   "name": "python3"
  },
  "language_info": {
   "codemirror_mode": {
    "name": "ipython",
    "version": 3
   },
   "file_extension": ".py",
   "mimetype": "text/x-python",
   "name": "python",
   "nbconvert_exporter": "python",
   "pygments_lexer": "ipython3",
   "version": "3.12.3"
  }
 },
 "nbformat": 4,
 "nbformat_minor": 5
}
