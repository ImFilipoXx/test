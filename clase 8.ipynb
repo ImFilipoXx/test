{
 "cells": [
  {
   "cell_type": "code",
   "execution_count": null,
   "id": "04ce617d-e876-45b7-b865-5de1ad7ec7fe",
   "metadata": {},
   "outputs": [],
   "source": [
    "%%writefile ejercicio_1.cpp\n",
    "\n",
    "#include <iostream>\n",
    "using namespace std;\n",
    "int main(){\n",
    "    int i;\n",
    "    for(i=0; i<10; i++)\n",
    "        switch(i){\n",
    "         case 1:\n",
    "           std::cout <<\"i is zero\"<< endl;\n",
    "            break;\n",
    "case 2:\n",
    "std::cout <<\"i is one\"<< endl;\n",
    "\n",
    "break;\n",
    "\n",
    "case 3:\n",
    "           std::cout <<\"i is three\"<< endl;\n",
    "            break;\n",
    "case 4:\n",
    "           std::cout <<\"i is four\"<< endl;\n",
    "            break;\n",
    "deafult:\n",
    "           std::cout <<\"i is five or more\"<< endl;\n",
    "\n",
    "}\n",
    "return 0;\n",
    "}\n"
   ]
  },
  {
   "cell_type": "code",
   "execution_count": null,
   "id": "b4ea319d-3466-404d-a232-fd0fd14d0fac",
   "metadata": {},
   "outputs": [],
   "source": [
    "!g++ ejercicio_1.cpp -o ejercicio_1"
   ]
  },
  {
   "cell_type": "code",
   "execution_count": 1,
   "id": "d481ee6a-7f57-4925-9aac-1fe0b58d2948",
   "metadata": {},
   "outputs": [
    {
     "name": "stdout",
     "output_type": "stream",
     "text": [
      "Overwriting ejercicio_3.cpp\n"
     ]
    }
   ],
   "source": [
    "%%writefile ejercicio_3.cpp\n",
    "\n",
    "#include <iostream>\n",
    "using namespace std;\n",
    "int main(){\n",
    "char choice;\n",
    "std::cout<<\"Help on:\"<< endl;\n",
    "std::cout<<\"1.if\"<<endl;\n",
    "std::cout<<\"2.switch\"<<endl;\n",
    "std::cout<<\"Choose one\"<<endl;\n",
    "std::cin >> choice;\n",
    "\n",
    "switch(choice) {\n",
    "case '1':\n",
    "std::cout<<\"The if\\n:\"<<endl;\n",
    "std::cout<<\"if(condition) statement;\"<<endl;\n",
    "std::cout<<\"else statement\"<<endl;\n",
    "break;\n",
    "case '2':\n",
    "std::cout<<\"The witch:\\n:\"<<endl;\n",
    "std::cout<<\"switch(expresion) {\"<<endl;\n",
    "std::cout<<\"case constant:\"<<endl;\n",
    "std::cout<<\"statement sequence\"<<endl;\n",
    "std::cout<<\"break;\"<<endl;\n",
    "std::cout<<\" /\"<<\"/ ...\"<<endl;\n",
    "std::cout<<\"}:\"<<endl;\n",
    "break;\n",
    "deafult:\n",
    "std::cout<<\"Selection not found\"<<endl;\n",
    "}\n",
    "\n",
    "return 0;\n",
    "}"
   ]
  },
  {
   "cell_type": "code",
   "execution_count": null,
   "id": "8d49db2c-b341-487b-8623-0736298d4911",
   "metadata": {},
   "outputs": [],
   "source": [
    "g++ ejericio_3.cpp -o ejercicio_3"
   ]
  }
 ],
 "metadata": {
  "kernelspec": {
   "display_name": "Python 3 (ipykernel)",
   "language": "python",
   "name": "python3"
  },
  "language_info": {
   "codemirror_mode": {
    "name": "ipython",
    "version": 3
   },
   "file_extension": ".py",
   "mimetype": "text/x-python",
   "name": "python",
   "nbconvert_exporter": "python",
   "pygments_lexer": "ipython3",
   "version": "3.12.3"
  }
 },
 "nbformat": 4,
 "nbformat_minor": 5
}
