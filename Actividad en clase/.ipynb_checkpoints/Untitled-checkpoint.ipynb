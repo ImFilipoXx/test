{
 "cells": [
  {
   "cell_type": "code",
   "execution_count": 1,
   "id": "a4b77bec-3886-4437-890b-7b85b3bcbd43",
   "metadata": {},
   "outputs": [
    {
     "name": "stdout",
     "output_type": "stream",
     "text": [
      "Writing meteorologia.cpp\n"
     ]
    }
   ],
   "source": [
    "%%writefile meteorologia.cpp\n",
    "#include <iostream>\n",
    "#include <cmath>\n",
    "using namespace std;\n",
    "\n",
    "int main() {\n",
    "    double lluvia[6], total = 0, maxLluvia = 0;\n",
    "    \n",
    "    cout << \"Ingrese la cantidad de lluvia caída en cada mes del semestre:\" << endl;\n",
    "    for (int i = 0; i < 6; i++) {\n",
    "        cout << \"Mes \" << (i + 1) << \": \";\n",
    "        cin >> lluvia[i];\n",
    "        total += lluvia[i];\n",
    "        if (lluvia[i] > maxLluvia) {\n",
    "            maxLluvia = lluvia[i];\n",
    "        }\n",
    "    }\n",
    "    \n",
    "    double promedio = total / 6;\n",
    "    \n",
    "    cout << \"Promedio de lluvia mensual: \" << promedio << \" mm\" << endl;\n",
    "    cout << \"Mayor cantidad de lluvia en un mes: \" << maxLluvia << \" mm\" << endl;\n",
    "    \n",
    "    return 0;\n",
    "}\n"
   ]
  },
  {
   "cell_type": "code",
   "execution_count": null,
   "id": "6c0e0821-6faa-468d-a134-650abda090de",
   "metadata": {},
   "outputs": [],
   "source": [
    "!g++ meteorologia.cpp"
   ]
  }
 ],
 "metadata": {
  "kernelspec": {
   "display_name": "Python 3 (ipykernel)",
   "language": "python",
   "name": "python3"
  },
  "language_info": {
   "codemirror_mode": {
    "name": "ipython",
    "version": 3
   },
   "file_extension": ".py",
   "mimetype": "text/x-python",
   "name": "python",
   "nbconvert_exporter": "python",
   "pygments_lexer": "ipython3",
   "version": "3.12.3"
  }
 },
 "nbformat": 4,
 "nbformat_minor": 5
}
