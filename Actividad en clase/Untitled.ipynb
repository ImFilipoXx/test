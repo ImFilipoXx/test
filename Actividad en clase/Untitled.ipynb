{
 "cells": [
  {
   "cell_type": "code",
   "execution_count": 3,
   "id": "a4b77bec-3886-4437-890b-7b85b3bcbd43",
   "metadata": {},
   "outputs": [
    {
     "name": "stdout",
     "output_type": "stream",
     "text": [
      "Overwriting meteorologia.cpp\n"
     ]
    }
   ],
   "source": [
    "%%writefile meteorologia.cpp\n",
    "#include <iostream>\n",
    "#include <cmath>\n",
    "using namespace std;\n",
    "\n",
    "int main() {\n",
    "    double lluvia[6], total = 0, maxLluvia = 0;\n",
    "    \n",
    "    cout << \"Ingrese la cantidad de lluvia caída en cada mes del semestre:\" << endl;\n",
    "    for (int i = 0; i < 6; i++) {\n",
    "        cout << \"Mes \" << (i + 1) << \": \";\n",
    "        cin >> lluvia[i];\n",
    "        total += lluvia[i];\n",
    "        if (lluvia[i] > maxLluvia) {\n",
    "            maxLluvia = lluvia[i];\n",
    "        }\n",
    "    }\n",
    "    \n",
    "    double promedio = total / 6;\n",
    "    \n",
    "    cout << \"Promedio de lluvia mensual: \" << promedio << \" mm\" << endl;\n",
    "    cout << \"Mayor cantidad de lluvia en un mes: \" << maxLluvia << \" mm\" << endl;\n",
    "    \n",
    "    return 0;\n",
    "}\n"
   ]
  },
  {
   "cell_type": "code",
   "execution_count": 4,
   "id": "6c0e0821-6faa-468d-a134-650abda090de",
   "metadata": {},
   "outputs": [],
   "source": [
    "!g++ meteorologia.cpp -o meteorologia"
   ]
  },
  {
   "cell_type": "code",
   "execution_count": 5,
   "id": "da2fc4ec-2d33-4c15-886f-bb2ccee80528",
   "metadata": {},
   "outputs": [
    {
     "name": "stdout",
     "output_type": "stream",
     "text": [
      "Writing piezas.cpp\n"
     ]
    }
   ],
   "source": [
    "%%writefile piezas.cpp\n",
    "#include <iostream>\n",
    "#include <string>\n",
    "using namespace std;\n",
    "\n",
    "int main() {\n",
    "    string codigo;\n",
    "    double costoProduccion;\n",
    "    int produccion[6], totalProduccion = 0;\n",
    "    \n",
    "    cout << \"Ingrese el código de la pieza: \";\n",
    "    cin >> codigo;\n",
    "    \n",
    "    cout << \"Ingrese el costo de producción: \";\n",
    "    cin >> costoProduccion;\n",
    "    \n",
    "    cout << \"Ingrese la producción diaria durante 6 días laborales:\" << endl;\n",
    "    for (int i = 0; i < 6; i++) {\n",
    "        cout << \"Día \" << (i + 1) << \": \";\n",
    "        cin >> produccion[i];\n",
    "        totalProduccion += produccion[i];\n",
    "    }\n",
    "    \n",
    "    cout << \"Código de pieza: \" << codigo << endl;\n",
    "    cout << \"Costo de producción: \" << costoProduccion << \" USD\" << endl;\n",
    "    cout << \"Producción total en la semana: \" << totalProduccion << \" unidades\" << endl;\n",
    "    \n",
    "    return 0;\n",
    "}"
   ]
  },
  {
   "cell_type": "code",
   "execution_count": null,
   "id": "994c9432-cad8-4434-9b35-c94beb1a955b",
   "metadata": {},
   "outputs": [],
   "source": [
    "!g++ piezas.cpp -o piezas"
   ]
  }
 ],
 "metadata": {
  "kernelspec": {
   "display_name": "Python 3 (ipykernel)",
   "language": "python",
   "name": "python3"
  },
  "language_info": {
   "codemirror_mode": {
    "name": "ipython",
    "version": 3
   },
   "file_extension": ".py",
   "mimetype": "text/x-python",
   "name": "python",
   "nbconvert_exporter": "python",
   "pygments_lexer": "ipython3",
   "version": "3.12.3"
  }
 },
 "nbformat": 4,
 "nbformat_minor": 5
}
