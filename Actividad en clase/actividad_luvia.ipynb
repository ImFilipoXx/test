{
 "cells": [
  {
   "cell_type": "code",
   "execution_count": null,
   "id": "a4b77bec-3886-4437-890b-7b85b3bcbd43",
   "metadata": {},
   "outputs": [],
   "source": []
  }
 ],
 "metadata": {
  "kernelspec": {
   "display_name": "",
   "name": ""
  },
  "language_info": {
   "name": ""
  }
 },
 "nbformat": 4,
 "nbformat_minor": 5
}
