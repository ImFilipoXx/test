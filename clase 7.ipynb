{
 "cells": [
  {
   "cell_type": "code",
   "execution_count": 5,
   "id": "43fbbd8e-52d8-443d-ae2f-e98c2b6b07ce",
   "metadata": {},
   "outputs": [
    {
     "name": "stdout",
     "output_type": "stream",
     "text": [
      "Overwriting ejercicio_3.cpp\n"
     ]
    }
   ],
   "source": [
    "%%writefile ejercicio_3.cpp\n",
    "#include <iostream>\n",
    "using namespace std;\n",
    "\n",
    "int main() {\n",
    "    // Solicitar el largo y ancho de la habitación al usuario\n",
    "    double largo, ancho;\n",
    "    cout << \"Ingrese la longitud de la habitacion en metros: \";\n",
    "    cin >> largo;\n",
    "    cout << \"Ingrese el ancho de la habitacion en metros: \";\n",
    "    cin >> ancho;\n",
    "    double area = largo * ancho;\n",
    "\n",
    "    // Mostrar el resultado con las unidades\n",
    "    cout << \"El area de la habitacion es \" << area << \" metros cuadrados.\" << endl;\n",
    "\n",
    "    return 0;\n",
    "}\n"
   ]
  },
  {
   "cell_type": "code",
   "execution_count": 6,
   "id": "574cc653-8d26-4448-884a-f0a0f79fe207",
   "metadata": {},
   "outputs": [],
   "source": [
    "!g++ ejercicio_3.cpp -o ejercicio_3"
   ]
  },
  {
   "cell_type": "code",
   "execution_count": null,
   "id": "a100ca5f-aaf6-4f93-84f5-cbf23ccd6ee7",
   "metadata": {},
   "outputs": [],
   "source": []
  },
  {
   "cell_type": "code",
   "execution_count": 7,
   "id": "38332ae4-f86e-4cca-98a7-161c87b3822c",
   "metadata": {},
   "outputs": [
    {
     "name": "stdout",
     "output_type": "stream",
     "text": [
      "Writing ejercicio_4.cpp\n"
     ]
    }
   ],
   "source": [
    "%%writefile ejercicio_4.cpp\n",
    "\n",
    "#include <iostream>\n",
    "using namespace std;\n",
    "\n",
    "int main() {\n",
    "    // Solicitar el largo y ancho del campo al usuario en pies\n",
    "    double largo, ancho;\n",
    "    cout << \"Ingresa el largo del campo en pies: \";\n",
    "    cin >> largo;\n",
    "    cout << \"Ingresa el ancho del campo en pies: \";\n",
    "    cin >> ancho;\n",
    "\n",
    "    // Calcular el área en pies cuadrados\n",
    "    double acres = (largo * ancho) / 43560.0;\n",
    "\n",
    "\n",
    "    // Mostrar el área en acres\n",
    "    cout << \"El área del campo es \" << acres << \" acres.\" << endl;\n",
    "\n",
    "    return 0;\n",
    "}\n"
   ]
  },
  {
   "cell_type": "code",
   "execution_count": 8,
   "id": "19d4105a-d49d-405f-941d-74450a3e21cd",
   "metadata": {},
   "outputs": [],
   "source": [
    "!g++ ejercicio_4.cpp -o ejercicio_4"
   ]
  },
  {
   "cell_type": "code",
   "execution_count": null,
   "id": "90678bab-e7d4-4c36-9713-0f09f748bd1e",
   "metadata": {},
   "outputs": [],
   "source": []
  }
 ],
 "metadata": {
  "kernelspec": {
   "display_name": "Python 3 (ipykernel)",
   "language": "python",
   "name": "python3"
  },
  "language_info": {
   "codemirror_mode": {
    "name": "ipython",
    "version": 3
   },
   "file_extension": ".py",
   "mimetype": "text/x-python",
   "name": "python",
   "nbconvert_exporter": "python",
   "pygments_lexer": "ipython3",
   "version": "3.12.3"
  }
 },
 "nbformat": 4,
 "nbformat_minor": 5
}
