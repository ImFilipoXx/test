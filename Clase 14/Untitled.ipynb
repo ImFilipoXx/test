{
 "cells": [
  {
   "cell_type": "code",
   "execution_count": 1,
   "id": "65ef00f0-393e-42d1-a282-0007591c4ec0",
   "metadata": {},
   "outputs": [
    {
     "name": "stdout",
     "output_type": "stream",
     "text": [
      "Writing saludar.cpp\n"
     ]
    }
   ],
   "source": [
    "%%writefile saludar.cpp\n",
    "\n",
    "#include <iostream>\n",
    "using namespace std;\n",
    "\n",
    "int main() {\n",
    "    // Declaramos una variable para almacenar el nombre del usuario\n",
    "    string nombre;\n",
    "\n",
    "    // Pedimos al usuario que ingrese su nombre\n",
    "    cout << \"Por favor, ingresa tu nombre: \";\n",
    "    cin >> nombre;\n",
    "\n",
    "    // Imprimimos un saludo usando el nombre que nos dio el usuario\n",
    "    cout << \"¡Hola, \" << nombre << \"!\" << endl;\n",
    "\n",
    "    return 0;\n",
    "}\n"
   ]
  },
  {
   "cell_type": "code",
   "execution_count": 3,
   "id": "c6cc07a9-e24f-4684-99db-e500b0092660",
   "metadata": {},
   "outputs": [],
   "source": [
    "!g++ saludar.cpp -o saludar"
   ]
  },
  {
   "cell_type": "code",
   "execution_count": 4,
   "id": "28719fe1-2d3e-4183-9740-80f2157e5fa6",
   "metadata": {},
   "outputs": [
    {
     "name": "stdout",
     "output_type": "stream",
     "text": [
      "Writing frase.cpp\n"
     ]
    }
   ],
   "source": [
    "%%writefile frase.cpp\n",
    "\n",
    "#include <iostream>\n",
    "#include <string>\n",
    "using namespace std;\n",
    "\n",
    "int main() {\n",
    "    // La frase original con palabras desordenadas\n",
    "    string frase = \"culpa, mal, un, siempre, la, trabajador, a, herramienta\";\n",
    "\n",
    "    // Reemplazar las comas por espacios\n",
    "    for (int i = 0; i < frase.length(); i++) {\n",
    "        if (frase[i] == ',') {\n",
    "            frase[i] = ' ';\n",
    "        }\n",
    "    }\n",
    "\n",
    "    // Mostrar la frase con un solo espacio entre palabras\n",
    "    cout << frase << endl;\n",
    "\n",
    "    return 0;\n",
    "}\n"
   ]
  },
  {
   "cell_type": "code",
   "execution_count": 5,
   "id": "bb93558e-b692-4fe9-b6e0-74fd5b058d05",
   "metadata": {},
   "outputs": [],
   "source": [
    "!g++ frase.cpp -o frase"
   ]
  },
  {
   "cell_type": "code",
   "execution_count": 6,
   "id": "4b245ebd-6e65-4b19-8c42-bf871c3d4a84",
   "metadata": {},
   "outputs": [
    {
     "name": "stdout",
     "output_type": "stream",
     "text": [
      "Writing ejercicio_3.cpp\n"
     ]
    }
   ],
   "source": [
    "%%writefile ejercicio_3.cpp\n",
    "\n",
    "#include <iostream>\n",
    "#include <string>\n",
    "using namespace std;\n",
    "\n",
    "int main() {\n",
    "    string frase = \"culpa, mal, un, siempre, la, trabajador, a, herramienta\";\n",
    "\n",
    "    // Colocar las mayúsculas necesarias y agregar la coma\n",
    "    frase = \"Siempre, la herramienta, mal, un trabajador, a.\";\n",
    "\n",
    "    // Mostrar la frase modificada\n",
    "    cout << frase << endl;\n",
    "\n",
    "    // Reemplazar \"trabajador\" por \"estudiante\" y \"herramienta\" por \"profesor\"\n",
    "    size_t pos = frase.find(\"trabajador\");\n",
    "    if (pos != string::npos) {\n",
    "        frase.replace(pos, 10, \"estudiante\");\n",
    "    }\n",
    "\n",
    "    pos = frase.find(\"herramienta\");\n",
    "    if (pos != string::npos) {\n",
    "        frase.replace(pos, 11, \"profesor\");\n",
    "    }\n",
    "\n",
    "    // Mostrar la frase después de las modificaciones\n",
    "    cout << frase << endl;\n",
    "\n",
    "    return 0;\n",
    "}\n",
    "\n"
   ]
  },
  {
   "cell_type": "code",
   "execution_count": 7,
   "id": "4d4d8a49-4c02-4cf3-ba36-1c9bd8f9ad4b",
   "metadata": {},
   "outputs": [],
   "source": [
    "!g++ ejercicio_3.cpp -o ejercicio"
   ]
  },
  {
   "cell_type": "code",
   "execution_count": 8,
   "id": "79b40d4c-567b-4dbf-abb7-4abcb557acfe",
   "metadata": {},
   "outputs": [
    {
     "name": "stdout",
     "output_type": "stream",
     "text": [
      "Writing ejercicio_4.cpp\n"
     ]
    }
   ],
   "source": [
    "%%writefile ejercicio_4.cpp\n",
    "\n",
    "#include <iostream>\n",
    "#include <string>\n",
    "using namespace std;\n",
    "\n",
    "int main() {\n",
    "    string frase = \"culpa, mal, un, siempre, la, trabajador, a, herramienta\";\n",
    "\n",
    "    // Colocar las mayúsculas necesarias y agregar la coma\n",
    "    frase = \"Siempre, la herramienta, mal, un trabajador, a.\";\n",
    "\n",
    "    // Mostrar la frase modificada\n",
    "    cout << frase << endl;\n",
    "\n",
    "    // Reemplazar \"trabajador\" por \"estudiante\" y \"herramienta\" por \"profesor\"\n",
    "    size_t pos = frase.find(\"trabajador\");\n",
    "    if (pos != string::npos) {\n",
    "        frase.replace(pos, 10, \"estudiante\");\n",
    "    }\n",
    "\n",
    "    pos = frase.find(\"herramienta\");\n",
    "    if (pos != string::npos) {\n",
    "        frase.replace(pos, 11, \"profesor\");\n",
    "    }\n",
    "\n",
    "    // Mostrar la frase después de las modificaciones\n",
    "    cout << frase << endl;\n",
    "\n",
    "    return 0;\n",
    "}\n",
    "\n"
   ]
  },
  {
   "cell_type": "code",
   "execution_count": 9,
   "id": "5c165577-b3a8-4b03-a317-ad06a2326335",
   "metadata": {},
   "outputs": [],
   "source": [
    "!g++ ejercicio_4.cpp -o ejercicio_4"
   ]
  },
  {
   "cell_type": "code",
   "execution_count": 10,
   "id": "f1d93b9d-d964-4651-a20f-62e78fad814e",
   "metadata": {},
   "outputs": [
    {
     "name": "stdout",
     "output_type": "stream",
     "text": [
      "Writing ejercicio_5.cpp\n"
     ]
    }
   ],
   "source": [
    "%%writefile ejercicio_5.cpp\n",
    "#include <iostream>\n",
    "#include <string>\n",
    "using namespace std;\n",
    "\n",
    "int main() {\n",
    "    float ancho, largo;\n",
    "\n",
    "    // Pedir el ancho y largo de la habitación\n",
    "    cout << \"Introduce el ancho de la habitación (en metros): \";\n",
    "    cin >> ancho;\n",
    "\n",
    "    cout << \"Introduce el largo de la habitación (en metros): \";\n",
    "    cin >> largo;\n",
    "\n",
    "    // Calcular el área\n",
    "    float area = ancho * largo;\n",
    "\n",
    "    cout << \"El área de la habitación es: \" << area << \" metros cuadrados.\" << endl;\n",
    "\n",
    "    return 0;\n",
    "}"
   ]
  },
  {
   "cell_type": "code",
   "execution_count": 12,
   "id": "2e2da0b6-1504-4797-ba0a-f280e0fa7f03",
   "metadata": {},
   "outputs": [],
   "source": [
    "!g++ ejercicio_5.cpp -o ejercicio_5"
   ]
  },
  {
   "cell_type": "code",
   "execution_count": 17,
   "id": "cbea173e-a63a-4403-b143-2266aceb5b09",
   "metadata": {},
   "outputs": [
    {
     "name": "stdout",
     "output_type": "stream",
     "text": [
      "Writing ejercicio_6.cpp\n"
     ]
    }
   ],
   "source": [
    "%%writefile ejercicio_6.cpp\n",
    "\n",
    "#include <iostream>\n",
    "#include <string>\n",
    "using namespace std;\n",
    "\n",
    "int main() {\n",
    "    float ancho, largo;\n",
    "\n",
    "    // Pedir el ancho y largo en pies\n",
    "    cout << \"Introduce el ancho del campo (pies): \";\n",
    "    cin >> ancho;\n",
    "\n",
    "    cout << \"Introduce el largo del campo (pies): \";\n",
    "    cin >> largo;\n",
    "\n",
    "    // Calcular el área en pies cuadrados\n",
    "    float areaEnPies = ancho * largo;\n",
    "\n",
    "    // Convertir pies cuadrados a acres (1 acre = 43,560 pies cuadrados)\n",
    "    float areaEnAcres = areaEnPies / 43560;\n",
    "\n",
    "    cout << \"El área del campo es: \" << areaEnAcres << \" acres.\" << endl;\n",
    "\n",
    "    return 0;\n",
    "}"
   ]
  },
  {
   "cell_type": "code",
   "execution_count": 18,
   "id": "8f7a4c5b-d3b8-4889-b864-bad2e29a19ed",
   "metadata": {},
   "outputs": [],
   "source": [
    "!g++ ejercicio_6.cpp -o ejercicio_6"
   ]
  },
  {
   "cell_type": "code",
   "execution_count": 21,
   "id": "5beacca4-6847-4b05-8c54-cf14662df4c1",
   "metadata": {},
   "outputs": [
    {
     "name": "stdout",
     "output_type": "stream",
     "text": [
      "Writing ejercicio_7.cpp\n"
     ]
    }
   ],
   "source": [
    "%%writefile ejercicio_7.cpp\n",
    "\n",
    "#include <iostream>\n",
    "#include <string>\n",
    "using namespace std;\n",
    "\n",
    "int main() {\n",
    "    float costoComida;\n",
    "\n",
    "    // Pedir el costo de la comida\n",
    "    cout << \"Introduce el costo de la comida: $\";\n",
    "    cin >> costoComida;\n",
    "\n",
    "    // Calcular el impuesto (10%) y la propina (18%)\n",
    "    float impuesto = costoComida * 0.10;\n",
    "    float propina = costoComida * 0.18;\n",
    "\n",
    "    // Calcular el total\n",
    "    float total = costoComida + impuesto + propina;\n",
    "\n",
    "    // Imprimir los resultados\n",
    "    cout << \"Impuesto: $\" << impuesto << endl;\n",
    "    cout << \"Propina: $\" << propina << endl;\n",
    "    cout << \"Total: $\" << total << endl;\n",
    "\n",
    "    return 0;\n",
    "}\n",
    "\n"
   ]
  },
  {
   "cell_type": "code",
   "execution_count": 22,
   "id": "ed4b1b13-cc69-4bed-9fe0-b4093ed005bd",
   "metadata": {},
   "outputs": [],
   "source": [
    "!g++ ejercicio_7.cpp -o ejercicio_7"
   ]
  },
  {
   "cell_type": "code",
   "execution_count": 23,
   "id": "9a9e1933-60be-4e53-8ea1-b30cc9fa56f7",
   "metadata": {},
   "outputs": [
    {
     "name": "stdout",
     "output_type": "stream",
     "text": [
      "Writing ejercicio_8.cpp\n"
     ]
    }
   ],
   "source": [
    "%%writefile ejercicio_8.cpp\n",
    "\n",
    "#include <iostream>\n",
    "#include <string>\n",
    "using namespace std;\n",
    "\n",
    "int main() {\n",
    "    float costoComida;\n",
    "\n",
    "    // Pedir el costo de la comida\n",
    "    cout << \"Introduce el costo de la comida: $\";\n",
    "    cin >> costoComida;\n",
    "\n",
    "    // Calcular el impuesto (10%) y la propina (18%)\n",
    "    float impuesto = costoComida * 0.10;\n",
    "    float propina = costoComida * 0.18;\n",
    "\n",
    "    // Calcular el total\n",
    "    float total = costoComida + impuesto + propina;\n",
    "\n",
    "    // Imprimir los resultados\n",
    "    cout << \"Impuesto: $\" << impuesto << endl;\n",
    "    cout << \"Propina: $\" << propina << endl;\n",
    "    cout << \"Total: $\" << total << endl;\n",
    "\n",
    "    return 0;\n",
    "}"
   ]
  },
  {
   "cell_type": "code",
   "execution_count": 24,
   "id": "f3f9fe4d-c7b2-4e96-a9f4-38e1456895f5",
   "metadata": {},
   "outputs": [],
   "source": [
    "!g++ ejercicio_8.cpp -o ejercicio_8"
   ]
  },
  {
   "cell_type": "code",
   "execution_count": 27,
   "id": "e2f6e69f-a0e8-48ee-af8f-f756a92d2daf",
   "metadata": {},
   "outputs": [
    {
     "name": "stdout",
     "output_type": "stream",
     "text": [
      "Overwriting ejercicio_9.cpp\n"
     ]
    }
   ],
   "source": [
    "%%writefile ejercicio_9.cpp\n",
    "\n",
    "#include <iostream>\n",
    "#include <string>\n",
    "using namespace std;\n",
    "\n",
    "int main() {\n",
    "    int cantidadWidgets, cantidadGizmos;\n",
    "\n",
    "    // Pedir las cantidades de widgets y gizmos\n",
    "    cout << \"Introduce la cantidad de widgets: \";\n",
    "    cin >> cantidadWidgets;\n",
    "\n",
    "    cout << \"Introduce la cantidad de gizmos: \";\n",
    "    cin >> cantidadGizmos;\n",
    "\n",
    "    // Cada widget pesa 75 gramos y cada gizmo 112 gramos\n",
    "    int pesoWidgets = cantidadWidgets * 75;\n",
    "    int pesoGizmos = cantidadGizmos * 112;\n",
    "\n",
    "    // Calcular el peso total\n",
    "    int pesoTotal = pesoWidgets + pesoGizmos;\n",
    "\n",
    "    cout << \"El peso total del pedido es: \" << pesoTotal << \" gramos.\" << endl;\n",
    "\n",
    "    return 0;\n",
    "}"
   ]
  },
  {
   "cell_type": "code",
   "execution_count": 28,
   "id": "a53040fa-8b69-4ba9-993f-e5535ea7a87b",
   "metadata": {},
   "outputs": [],
   "source": [
    "!g++ ejercicio_9.cpp -o ejercicio_9"
   ]
  },
  {
   "cell_type": "code",
   "execution_count": null,
   "id": "9ffb0729-6720-4c02-8db3-f0c1d206b35b",
   "metadata": {},
   "outputs": [],
   "source": []
  }
 ],
 "metadata": {
  "kernelspec": {
   "display_name": "Python 3 (ipykernel)",
   "language": "python",
   "name": "python3"
  },
  "language_info": {
   "codemirror_mode": {
    "name": "ipython",
    "version": 3
   },
   "file_extension": ".py",
   "mimetype": "text/x-python",
   "name": "python",
   "nbconvert_exporter": "python",
   "pygments_lexer": "ipython3",
   "version": "3.12.3"
  }
 },
 "nbformat": 4,
 "nbformat_minor": 5
}
