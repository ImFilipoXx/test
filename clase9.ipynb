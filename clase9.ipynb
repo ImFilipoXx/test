{
 "cells": [
  {
   "cell_type": "code",
   "execution_count": null,
   "id": "b101efe1-a0db-4163-83d1-e4bc941065a6",
   "metadata": {},
   "outputs": [],
   "source": [
    "Ejercicio 6: Impuestos y Propina\n",
    "(Resuelto— Líneas) El programa que crees para este ejercicio comenzará leyendo el costo de una comida ordenada en un restaurante del \n",
    "usuario. Luego, tu programa calculará el impuesto y la propina para la comida. Usa tu tasa de impuesto local al calcular la cantidad \n",
    "de impuesto adeudado. Calcula la propina como el 18 por ciento del monto de la comida (sin el impuesto). \n",
    "La salida de tu programa debe incluir el monto del impuesto, el monto de la propina y el gran total para la comida, \n",
    "incluyendo tanto el impuesto como la propina. Formatea la salida para que todos los valores se muestren usando dos decimales.\n",
    "\n",
    "________________________________________\n",
    "Ejercicio 7: Suma de los Primeros n Enteros Positivos\n",
    "(Resuelto— Líneas) Escribe un programa que lea un entero positivo, n, del usuario y luego muestre la suma de todos los enteros de \n",
    "1 a n. La suma de los primeros n enteros positivos se puede calcular usando la fórmula: sum = (n)(n + 1) / 2\n",
    "\n",
    "________________________________________\n",
    "Ejercicio 8: Widgets y Gizmos\n",
    "Un minorista en línea vende dos productos: widgets y gizmos. Cada widget pesa 75 gramos. Cada gizmo pesa 112 gramos. \n",
    "Escribe un programa que lea el número de widgets y el número de gizmos en un pedido del usuario. Luego, tu programa debe calcular \n",
    "y mostrar el peso total del pedido.\n",
    "________________________________________\n",
    "Ejercicio 9: Interés Compuesto\n",
    "(15 Líneas) Imagina que acabas de abrir una cuenta de ahorros que gana 4 por ciento de interés al año. El interés que ganas se paga \n",
    "al final del año, y el interés se agrega al saldo de la cuenta. Escribe un programa que comience leyendo la cantidad de dinero \n",
    "depositada en la cuenta del usuario. Luego, tu programa debe calcular y mostrar el saldo de la cuenta después del primer, segundo \n",
    "y tercer año.\n",
    "\n",
    "________________________________________\n",
    "Ejercicio 10: Aritmética\n",
    "(Resuelto—14 Líneas) Crea un programa que lea dos enteros, a y b, del usuario. Tu programa debe calcular y mostrar:\n",
    "•\tLa suma de a y b\n",
    "•\tLa diferencia cuando b se resta de a\n",
    "•\tEl producto de a y b\n",
    "•\tEl cociente cuando a se divide entre b\n",
    "•\tEl resto cuando a se divide entre b\n",
    "•\tEl resultado de log10 a\n",
    "•\tEl resultado de a b.\n",
    "\n",
    "________________________________________\n",
    "Ejercicio 11: Eficiencia de Combustible\n",
    "En los Estados Unidos, la eficiencia de combustible para los vehículos normalmente se expresa en millas por galón (MPG). \n",
    "En Canadá, la eficiencia de combustible normalmente se expresa en litros por cada 100 kilómetros (L/100km). \n",
    "Usa tus habilidades de investigación para determinar cómo convertir de MPG a L/100km. Luego, crea un programa que lea un valor \n",
    "del usuario en unidades estadounidenses y muestre la eficiencia de combustible equivalente en unidades canadienses.\n",
    "\n",
    "________________________________________\n",
    "Ejercicio 12: Distancia Entre Dos Puntos en la Tierra\n",
    "Python: No tiene solución en el material fuente. Se sugiere: Usar la fórmula de haversine para calcular la distancia entre dos \n",
    "coordenadas (latitud y longitud, en grados).\n",
    "\n",
    "________________________________________\n",
    "Ejercicio 13: Haciendo Cambio\n",
    " Considera la cantidad de monedas que se necesitarían para hacer cambio para una cantidad específica de dinero. \n",
    "El dinero siempre debe dispensarse usando la menor cantidad de monedas posible. \n",
    "Asume que hay monedas de 25¢, 10¢, 5¢ y 1¢ disponibles. Escribe un programa que lea una cantidad de dinero del usuario. \n",
    "Luego, tu programa debe mostrar la cantidad mínima de monedas de cada tipo que se usarían para hacer cambio para esa cantidad. \n",
    "Imprime la cantidad de cada moneda en su propia línea, con la información ordenada de la moneda de mayor valor a la de menor valor.\n",
    "\n",
    "________________________________________\n",
    "Ejercicio 14: Unidades de Altura\n",
    "Muchas personas piensan en su altura en pies y pulgadas, incluso en algunos países que utilizan principalmente el sistema métrico. \n",
    "Escribe un programa que lea un número de pies del usuario, seguido de un número de pulgadas. \n",
    "Una vez que se lean estos valores, tu programa debe calcular y mostrar el número equivalente de centímetros.\n",
    "\n",
    "_____________________________________\n",
    "Ejercicio 15: Unidades de Distancia\n",
    "En este ejercicio, crearás un programa que comience leyendo una medida en pies del usuario. Luego, tu programa debe mostrar \n",
    "la distancia equivalente en pulgadas, yardas y millas. Usa Internet para buscar los factores de conversión necesarios si no \n",
    "los tienes memorizados.\n",
    "\n",
    "________________________________________\n",
    "Ejercicio 16: Área y Volumen\n",
    "( Líneas) Escribe un programa que comience leyendo un radio, r, del usuario. El programa continuará calculando y mostrando el área de \n",
    "un círculo con radio r y el volumen de una esfera con radio r. Usa la constante pi en el módulo math en tus cálculos.\n",
    "Pista: El área de un círculo se calcula usando la fórmula area = πr2. El volumen de una esfera se calcula usando \n",
    "la fórmula volume = (4/3)πr3.\n",
    "________________________________________\n",
    "Ejercicio 17: Capacidad de Calor\n",
    "La cantidad de energía requerida para aumentar la temperatura de un gramo de un material en un grado Celsius es la capacidad de calor \n",
    "específica del material, C. La cantidad total de energía requerida para elevar m gramos de un material en ΔT grados Celsius se puede \n",
    "calcular usando la fórmula: Q = mCΔT. Escribe un programa que lea la masa de agua y el cambio de temperatura del usuario. Tu programa \n",
    "debe mostrar la cantidad total de energía que se necesita para calentar el agua.\n",
    "Pista: El calor específico del agua es 4.186 J/g°C. Debido a que el agua se está calentando, y no cambiando de estado, no necesitas \n",
    "preocuparte por su calor latente.Extiende tu programa para calcular el costo de calentar el agua eléctricamente. El programa asumirá \n",
    "que tu compañía eléctrica cobra $0.085 por kilovatio-hora. Usa tu programa para calcular el costo de hervir un litro de agua.\n",
    "Pista: Necesitarás buscar el factor para convertir entre Julios y kilovatios-hora para completar la última parte de este ejercicio.\n",
    "\n",
    "________________________________________\n",
    "Ejercicio 18: Volumen de un Cilindro\n",
    "( Líneas) El volumen de un cilindro se puede calcular multiplicando el área de su base circular por su altura. Escribe un programa que \n",
    "lea el radio del cilindro, junto con su altura, del usuario y calcule su volumen. Muestra el resultado redondeado a un decimal.\n",
    "\n",
    "________________________________________\n",
    "Ejercicio 19: Caída Libre\n",
    "(Resuelto— Líneas) Crea un programa que determine qué tan rápido viaja un objeto cuando golpea el suelo. El usuario ingresará la \n",
    "altura desde la cual se deja caer el objeto en metros (m). Debido a que el objeto se deja caer, su velocidad inicial es de 0 m/s. \n",
    "Asume que la aceleración.\n",
    "\n",
    "________________________________________\n",
    "Ejercicio 20: Ley de los Gases Ideales\n",
    ") La ley de los gases ideales es una aproximación matemática de la relación entre la presión, el volumen, la temperatura y la cantidad \n",
    "de gas. Se establece como: PV = nRT donde P es la presión en Pascales, V es el volumen en litros, n es la cantidad de sustancia en \n",
    "moles, R es la constante de los gases ideales, igual a 8.314 J/mol K, y T es la temperatura en grados Kelvin.\n",
    "Escribe un programa que calcule la cantidad de gas en moles cuando el usuario suministra la presión, el volumen y la temperatura.\n"
   ]
  },
  {
   "cell_type": "code",
   "execution_count": 1,
   "id": "f687d0d6-eb40-4363-9926-459944295246",
   "metadata": {},
   "outputs": [
    {
     "name": "stdout",
     "output_type": "stream",
     "text": [
      "Writing Impuestos_propina.cpp\n"
     ]
    }
   ],
   "source": [
    "%%writefile Impuestos_propina.cpp\n",
    "\n",
    "#include <iostream>\n",
    "#include <iomanip>  // Para usar setprecision\n",
    "\n",
    "int main() {\n",
    "    // Definir las variables\n",
    "    double costoComida, impuesto, propina, total;\n",
    "    double tasaImpuesto = 0.08; // Suponiendo una tasa de impuesto del 8%\n",
    "    double tasaPropina = 0.18; // Propina del 18%\n",
    "\n",
    "    // Leer el costo de la comida\n",
    "    std::cout << \"Ingresa el costo de la comida: $\";\n",
    "    std::cin >> costoComida;\n",
    "\n",
    "    // Calcular el impuesto, la propina y el total\n",
    "    impuesto = costoComida * tasaImpuesto;\n",
    "    propina = costoComida * tasaPropina;\n",
    "    total = costoComida + impuesto + propina;\n",
    "\n",
    "    // Mostrar los resultados con dos decimales\n",
    "    std::cout << std::fixed << std::setprecision(2); // Para mostrar con dos decimales\n",
    "    std::cout << \"Impuesto: $\" << impuesto << std::endl;\n",
    "    std::cout << \"Propina: $\" << propina << std::endl;\n",
    "    std::cout << \"Total: $\" << total << std::endl;\n",
    "\n",
    "    return 0;\n",
    "}\n"
   ]
  },
  {
   "cell_type": "code",
   "execution_count": 2,
   "id": "2373b056-ede9-4518-9887-716a23209b2d",
   "metadata": {},
   "outputs": [],
   "source": [
    "!g++ Impuestos_propina.cpp -o Impuestos_propina"
   ]
  },
  {
   "cell_type": "code",
   "execution_count": 7,
   "id": "4f5e8de7-f315-411e-848b-22218d39457a",
   "metadata": {},
   "outputs": [
    {
     "name": "stdout",
     "output_type": "stream",
     "text": [
      "Overwriting sumar_enteros.cpp\n"
     ]
    }
   ],
   "source": [
    "%%writefile sumar_enteros.cpp\n",
    "\n",
    "#include <iostream>\n",
    "\n",
    "int main() {\n",
    "    // Definir la variable\n",
    "    int n;\n",
    "    \n",
    "    // Leer el valor de n\n",
    "    std::cout << \"Ingresa un número entero positivo: \";\n",
    "    std::cin >> n;\n",
    "\n",
    "    // Verificar que el número ingresado sea positivo\n",
    "    if (n <= 0) {\n",
    "        std::cout << \"Por favor, ingresa un número entero positivo.\" << std::endl;\n",
    "        return 1;  // Termina el programa si n no es positivo\n",
    "    }\n",
    "\n",
    "    // Calcular la suma usando la fórmula\n",
    "    int suma = (n * (n + 1)) / 2;\n",
    "\n",
    "    // Mostrar el resultado\n",
    "    std::cout << \"La suma de los primeros \" << n << \" enteros positivos es: \" << suma << std::endl;\n",
    "\n",
    "    return 0;\n",
    "}\n"
   ]
  },
  {
   "cell_type": "code",
   "execution_count": 8,
   "id": "473242a8-e93f-4a09-99f1-c695dd2ad2a0",
   "metadata": {},
   "outputs": [],
   "source": [
    "!g++ sumar_enteros.cpp -o sumar_enteros"
   ]
  },
  {
   "cell_type": "code",
   "execution_count": 9,
   "id": "4c74bf4a-9d38-4920-8e33-746fc4f8c105",
   "metadata": {},
   "outputs": [
    {
     "name": "stdout",
     "output_type": "stream",
     "text": [
      "Writing widgets.cpp\n"
     ]
    }
   ],
   "source": [
    "%%writefile widgets.cpp\n",
    "\n",
    "#include <iostream>\n",
    "\n",
    "int main() {\n",
    "    // Definir las variables\n",
    "    int numWidgets, numGizmos;\n",
    "    const int pesoWidget = 75; // Peso de un widget en gramos\n",
    "    const int pesoGizmo = 112; // Peso de un gizmo en gramos\n",
    "\n",
    "    // Leer el número de widgets y gizmos en el pedido\n",
    "    std::cout << \"Ingresa el número de widgets: \";\n",
    "    std::cin >> numWidgets;\n",
    "\n",
    "    std::cout << \"Ingresa el número de gizmos: \";\n",
    "    std::cin >> numGizmos;\n",
    "\n",
    "    // Calcular el peso total del pedido\n",
    "    int pesoTotal = (numWidgets * pesoWidget) + (numGizmos * pesoGizmo);\n",
    "\n",
    "    // Mostrar el resultado\n",
    "    std::cout << \"El peso total del pedido es: \" << pesoTotal << \" gramos.\" << std::endl;\n",
    "\n",
    "    return 0;\n",
    "}\n"
   ]
  },
  {
   "cell_type": "code",
   "execution_count": 10,
   "id": "231a4948-3ed6-4714-885b-7c7e814ca8e3",
   "metadata": {},
   "outputs": [],
   "source": [
    "!g++ widgets.cpp -o widgets"
   ]
  },
  {
   "cell_type": "code",
   "execution_count": 11,
   "id": "f90fbef0-6047-48e1-9c26-d2260a22de0b",
   "metadata": {},
   "outputs": [
    {
     "name": "stdout",
     "output_type": "stream",
     "text": [
      "Writing saldo_cuenta.cpp\n"
     ]
    }
   ],
   "source": [
    "%%writefile saldo_cuenta.cpp\n",
    "\n",
    "#include <iostream>\n",
    "#include <iomanip>  // Para manejar la precisión en la salida\n",
    "\n",
    "int main() {\n",
    "    // Definir las variables\n",
    "    double depositoInicial, saldo;\n",
    "    const double tasaInteres = 0.04; // 4% de interés\n",
    "\n",
    "    // Leer el monto de dinero depositado\n",
    "    std::cout << \"Ingresa la cantidad de dinero depositado en la cuenta: $\";\n",
    "    std::cin >> depositoInicial;\n",
    "\n",
    "    // Calcular el saldo después de 1, 2 y 3 años\n",
    "    saldo = depositoInicial;\n",
    "\n",
    "    std::cout << std::fixed << std::setprecision(2); // Para mostrar dos decimales\n",
    "\n",
    "    // Saldo después del primer año\n",
    "    saldo += saldo * tasaInteres;\n",
    "    std::cout << \"Saldo después del primer año: $\" << saldo << std::endl;\n",
    "\n",
    "    // Saldo después del segundo año\n",
    "    saldo += saldo * tasaInteres;\n",
    "    std::cout << \"Saldo después del segundo año: $\" << saldo << std::endl;\n",
    "\n",
    "    // Saldo después del tercer año\n",
    "    saldo += saldo * tasaInteres;\n",
    "    std::cout << \"Saldo después del tercer año: $\" << saldo << std::endl;\n",
    "\n",
    "    return 0;\n",
    "}\n"
   ]
  },
  {
   "cell_type": "code",
   "execution_count": 12,
   "id": "c2aa26db-e520-42dc-a8dd-62a7061ae426",
   "metadata": {},
   "outputs": [],
   "source": [
    "!g++ saldo_cuenta.cpp -o saldo_cuenta"
   ]
  },
  {
   "cell_type": "code",
   "execution_count": 13,
   "id": "f9325c02-410c-4012-aeb2-64ddaebd755c",
   "metadata": {},
   "outputs": [
    {
     "name": "stdout",
     "output_type": "stream",
     "text": [
      "Writing aritmetica.cpp\n"
     ]
    }
   ],
   "source": [
    "%%writefile aritmetica.cpp\n",
    "\n",
    "#include <iostream>\n",
    "#include <cmath>\n",
    "using namespace std;\n",
    "\n",
    "int main() {\n",
    "    int a, b;\n",
    "    cin >> a >> b;\n",
    "    cout << a + b << endl << a - b << endl << a * b << endl;\n",
    "    cout << (b != 0 ? a / b : 0) << endl << (b != 0 ? a % b : 0) << endl;\n",
    "    cout << (a > 0 ? log10(a) : 0) << endl << pow(a, b) << endl;\n",
    "    return 0;\n",
    "}\n"
   ]
  },
  {
   "cell_type": "code",
   "execution_count": 14,
   "id": "aaebf125-be04-4efb-8b80-1b3100290122",
   "metadata": {},
   "outputs": [],
   "source": [
    "!g++ aritmetica.cpp -o aritmetica"
   ]
  },
  {
   "cell_type": "code",
   "execution_count": 34,
   "id": "46cc062f-e8f7-4d4b-bf12-a2a0ef9461d7",
   "metadata": {},
   "outputs": [
    {
     "name": "stdout",
     "output_type": "stream",
     "text": [
      "Writing combustible.cpp\n"
     ]
    }
   ],
   "source": [
    "%%writefile combustible.cpp\n",
    "\n",
    "#include <iostream>\n",
    "using namespace std;\n",
    "\n",
    "int main() {\n",
    "    double mpg;\n",
    "    cout << \"Ingresa la eficiencia de combustible en millas por galón (MPG): \";\n",
    "    cin >> mpg;\n",
    "    double lPer100km = 235.214 / mpg; // Fórmula de conversión\n",
    "    cout << \"La eficiencia de combustible equivalente en litros por cada 100 km (L/100km) es: \" << lPer100km << endl;\n",
    "    return 0;\n",
    "}\n"
   ]
  },
  {
   "cell_type": "code",
   "execution_count": 35,
   "id": "f218c8eb-186b-4330-8d79-057816f803a7",
   "metadata": {},
   "outputs": [],
   "source": [
    "!g++ combustible.cpp -o combustible"
   ]
  },
  {
   "cell_type": "code",
   "execution_count": 19,
   "id": "f95f3f80-64fe-4bf4-9dd9-4ddbe13df4b4",
   "metadata": {},
   "outputs": [
    {
     "name": "stdout",
     "output_type": "stream",
     "text": [
      "Writing latitud.cpp\n"
     ]
    }
   ],
   "source": [
    "%%writefile latitud.cpp\n",
    "\n",
    "#include <iostream>\n",
    "#include <cmath>\n",
    "\n",
    "using namespace std;\n",
    "\n",
    "const double R = 6371.0; // Radio de la Tierra en kilómetros\n",
    "\n",
    "// Función para convertir grados a radianes\n",
    "double degToRad(double deg) {\n",
    "    return deg * (M_PI / 180.0);\n",
    "}\n",
    "\n",
    "int main() {\n",
    "    double lat1, lon1, lat2, lon2;\n",
    "\n",
    "    // Leer las coordenadas de los dos puntos (en grados)\n",
    "    cout << \"Ingresa la latitud y longitud del primer punto (en grados): \";\n",
    "    cin >> lat1 >> lon1;\n",
    "    cout << \"Ingresa la latitud y longitud del segundo punto (en grados): \";\n",
    "    cin >> lat2 >> lon2;\n",
    "\n",
    "    // Convertir las coordenadas de grados a radianes\n",
    "    lat1 = degToRad(lat1);\n",
    "    lon1 = degToRad(lon1);\n",
    "    lat2 = degToRad(lat2);\n",
    "    lon2 = degToRad(lon2);\n",
    "\n",
    "    // Calcular las diferencias\n",
    "    double dLat = lat2 - lat1;\n",
    "    double dLon = lon2 - lon1;\n",
    "\n",
    "    // Fórmula de Haversine\n",
    "    double a = sin(dLat / 2) * sin(dLat / 2) +\n",
    "               cos(lat1) * cos(lat2) *\n",
    "               sin(dLon / 2) * sin(dLon / 2);\n",
    "    double c = 2 * atan2(sqrt(a), sqrt(1 - a));\n",
    "\n",
    "    // Distancia final\n",
    "    double distance = R * c;\n",
    "\n",
    "    // Mostrar el resultado\n",
    "    cout << \"La distancia entre los dos puntos es: \" << distance << \" km\" << endl;\n",
    "\n",
    "    return 0;\n",
    "}\n"
   ]
  },
  {
   "cell_type": "code",
   "execution_count": 20,
   "id": "fd423cce-09f9-4399-b996-6cdc0832ef96",
   "metadata": {},
   "outputs": [],
   "source": [
    "!g++ latitud.cpp -o latitud"
   ]
  },
  {
   "cell_type": "code",
   "execution_count": 17,
   "id": "79b5e3a2-35be-4297-af8f-f297ddd3b8c5",
   "metadata": {},
   "outputs": [
    {
     "name": "stdout",
     "output_type": "stream",
     "text": [
      "Writing cambio.cpp\n"
     ]
    }
   ],
   "source": [
    "%%writefile cambio.cpp\n",
    "\n",
    "#include <iostream>\n",
    "using namespace std;\n",
    "\n",
    "int main() {\n",
    "    int cantidad;\n",
    "    \n",
    "    // Leer la cantidad de dinero en centavos\n",
    "    cout << \"Ingresa la cantidad de dinero en centavos: \";\n",
    "    cin >> cantidad;\n",
    "\n",
    "    // Calcular el número de monedas de 25¢\n",
    "    int monedas25 = cantidad / 25;\n",
    "    cantidad %= 25; // Resto de la cantidad después de las monedas de 25¢\n",
    "\n",
    "    // Calcular el número de monedas de 10¢\n",
    "    int monedas10 = cantidad / 10;\n",
    "    cantidad %= 10; // Resto de la cantidad después de las monedas de 10¢\n",
    "\n",
    "    // Calcular el número de monedas de 5¢\n",
    "    int monedas5 = cantidad / 5;\n",
    "    cantidad %= 5; // Resto de la cantidad después de las monedas de 5¢\n",
    "\n",
    "    // Calcular el número de monedas de 1¢\n",
    "    int monedas1 = cantidad;\n",
    "\n",
    "    // Mostrar el resultado\n",
    "    cout << \"Monedas de 25¢: \" << monedas25 << endl;\n",
    "    cout << \"Monedas de 10¢: \" << monedas10 << endl;\n",
    "    cout << \"Monedas de 5¢: \" << monedas5 << endl;\n",
    "    cout << \"Monedas de 1¢: \" << monedas1 << endl;\n",
    "\n",
    "    return 0;\n",
    "}\n"
   ]
  },
  {
   "cell_type": "code",
   "execution_count": 18,
   "id": "3d5171fa-880a-4bb4-a84f-452ecd5c4ecf",
   "metadata": {},
   "outputs": [],
   "source": [
    "!g++ cambio.cpp -o cambio"
   ]
  },
  {
   "cell_type": "code",
   "execution_count": 21,
   "id": "f71798f9-efb3-42e5-a317-3526cb0f7bad",
   "metadata": {},
   "outputs": [
    {
     "name": "stdout",
     "output_type": "stream",
     "text": [
      "Writing unidades_distancia.cpp\n"
     ]
    }
   ],
   "source": [
    "%%writefile unidades_distancia.cpp\n",
    "\n",
    "#include <iostream>\n",
    "using namespace std;\n",
    "\n",
    "int main() {\n",
    "    double pies;\n",
    "\n",
    "    // Leer la cantidad de distancia en pies\n",
    "    cout << \"Ingresa la distancia en pies: \";\n",
    "    cin >> pies;\n",
    "\n",
    "    // Conversiones\n",
    "    double pulgadas = pies * 12;\n",
    "    double yardas = pies / 3;\n",
    "    double millas = pies / 5280;\n",
    "\n",
    "    // Mostrar los resultados\n",
    "    cout << \"Distancia equivalente en pulgadas: \" << pulgadas << \" pulgadas\" << endl;\n",
    "    cout << \"Distancia equivalente en yardas: \" << yardas << \" yardas\" << endl;\n",
    "    cout << \"Distancia equivalente en millas: \" << millas << \" millas\" << endl;\n",
    "\n",
    "    return 0;\n",
    "}\n"
   ]
  },
  {
   "cell_type": "code",
   "execution_count": 24,
   "id": "af5aba69-ba37-4f62-bb54-4e836f70ebaa",
   "metadata": {},
   "outputs": [],
   "source": [
    "!g++ unidades_distancia.cpp -o unidades_distancia"
   ]
  },
  {
   "cell_type": "code",
   "execution_count": 25,
   "id": "15f4864a-9abd-4413-ad34-e93f09956956",
   "metadata": {},
   "outputs": [
    {
     "name": "stdout",
     "output_type": "stream",
     "text": [
      "Writing area_volumen.cpp\n"
     ]
    }
   ],
   "source": [
    "%%writefile area_volumen.cpp\n",
    "\n",
    "#include <iostream>\n",
    "#include <cmath>  // Para usar M_PI y las funciones matemáticas\n",
    "\n",
    "using namespace std;\n",
    "\n",
    "int main() {\n",
    "    double r;\n",
    "\n",
    "    // Leer el radio del usuario\n",
    "    cout << \"Ingresa el radio: \";\n",
    "    cin >> r;\n",
    "\n",
    "    // Calcular el área del círculo\n",
    "    double area = M_PI * pow(r, 2);\n",
    "\n",
    "    // Calcular el volumen de la esfera\n",
    "    double volumen = (4.0 / 3.0) * M_PI * pow(r, 3);\n",
    "\n",
    "    // Mostrar los resultados\n",
    "    cout << \"Área del círculo: \" << area << endl;\n",
    "    cout << \"Volumen de la esfera: \" << volumen << endl;\n",
    "\n",
    "    return 0;\n",
    "}\n"
   ]
  },
  {
   "cell_type": "code",
   "execution_count": 26,
   "id": "896fc843-5914-4b09-a493-c8dd94a85a70",
   "metadata": {},
   "outputs": [],
   "source": [
    "!g++ area_volumen.cpp -o area_volumen"
   ]
  },
  {
   "cell_type": "code",
   "execution_count": 27,
   "id": "478b374e-f1bf-4b8c-9b4b-7394085c439b",
   "metadata": {},
   "outputs": [
    {
     "name": "stdout",
     "output_type": "stream",
     "text": [
      "Writing capacidad_calor.cpp\n"
     ]
    }
   ],
   "source": [
    "%%writefile capacidad_calor.cpp\n",
    "\n",
    "#include <iostream>\n",
    "using namespace std;\n",
    "\n",
    "int main() {\n",
    "    double masa, cambioTemperatura;\n",
    "    const double C = 4.186;  // Calor específico del agua en J/g°C\n",
    "    const double costoPorKWh = 0.085;  // Costo por kilovatio-hora en dólares\n",
    "    const double conversionJoulesAKWh = 3600000.0;  // 1 kWh = 3,600,000 J\n",
    "\n",
    "    // Leer la masa del agua en gramos y el cambio de temperatura en grados Celsius\n",
    "    cout << \"Ingresa la masa de agua en gramos: \";\n",
    "    cin >> masa;\n",
    "    cout << \"Ingresa el cambio de temperatura en grados Celsius: \";\n",
    "    cin >> cambioTemperatura;\n",
    "\n",
    "    // Calcular la cantidad total de energía requerida (Q) en Julios\n",
    "    double energiaJoules = masa * C * cambioTemperatura;\n",
    "\n",
    "    // Convertir la energía de Julios a kilovatios-hora (kWh)\n",
    "    double energiaKWh = energiaJoules / conversionJoulesAKWh;\n",
    "\n",
    "    // Calcular el costo de la energía para calentar el agua\n",
    "    double costo = energiaKWh * costoPorKWh;\n",
    "\n",
    "    // Mostrar los resultados\n",
    "    cout << \"La cantidad de energía requerida es: \" << energiaJoules << \" Julios\" << endl;\n",
    "    cout << \"La energía equivalente en kilovatios-hora es: \" << energiaKWh << \" kWh\" << endl;\n",
    "    cout << \"El costo de calentar el agua es: $\" << costo << endl;\n",
    "\n",
    "    return 0;\n",
    "}\n"
   ]
  },
  {
   "cell_type": "code",
   "execution_count": 28,
   "id": "9ce4f309-fbbf-45e4-ad1d-8f6423733c91",
   "metadata": {},
   "outputs": [],
   "source": [
    "!g++ capacidad_calor.cpp -o capacidad_calor"
   ]
  },
  {
   "cell_type": "code",
   "execution_count": 32,
   "id": "044ef8aa-7719-4499-a773-587ea886e071",
   "metadata": {},
   "outputs": [
    {
     "name": "stdout",
     "output_type": "stream",
     "text": [
      "Overwriting volumen_cilindro.cpp\n"
     ]
    }
   ],
   "source": [
    "%%writefile volumen_cilindro.cpp\n",
    "\n",
    "#include <iostream>\n",
    "#include <cmath>  // Para usar M_PI y la función de redondeo\n",
    "\n",
    "using namespace std;\n",
    "\n",
    "int main() {\n",
    "    double radio, altura;\n",
    "\n",
    "    // Leer el radio y la altura del cilindro\n",
    "    cout << \"Ingresa el radio del cilindro: \";\n",
    "    cin >> radio;\n",
    "    cout << \"Ingresa la altura del cilindro: \";\n",
    "    cin >> altura;\n",
    "\n",
    "    // Calcular el volumen del cilindro\n",
    "    double volumen = M_PI * pow(radio, 2) * altura;\n",
    "\n",
    "    // Mostrar el volumen redondeado a un decimal\n",
    "    cout << \"El volumen del cilindro es: \" << round(volumen * 10) / 10 << \" unidades cúbicas.\" << endl;\n",
    "\n",
    "    return 0;\n",
    "}\n"
   ]
  },
  {
   "cell_type": "code",
   "execution_count": 33,
   "id": "35f32542-8299-4e98-9198-98050bd2ed34",
   "metadata": {},
   "outputs": [],
   "source": [
    "!g++ volumen_cilindro.cpp -o volumen_cilindro"
   ]
  },
  {
   "cell_type": "code",
   "execution_count": null,
   "id": "88c571d1-4e28-4828-b723-64ec60beee54",
   "metadata": {},
   "outputs": [],
   "source": []
  }
 ],
 "metadata": {
  "kernelspec": {
   "display_name": "Python 3 (ipykernel)",
   "language": "python",
   "name": "python3"
  },
  "language_info": {
   "codemirror_mode": {
    "name": "ipython",
    "version": 3
   },
   "file_extension": ".py",
   "mimetype": "text/x-python",
   "name": "python",
   "nbconvert_exporter": "python",
   "pygments_lexer": "ipython3",
   "version": "3.12.3"
  }
 },
 "nbformat": 4,
 "nbformat_minor": 5
}
