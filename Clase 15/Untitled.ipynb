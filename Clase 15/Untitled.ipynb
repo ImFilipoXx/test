{
 "cells": [
  {
   "cell_type": "code",
   "execution_count": 5,
   "id": "eb98d23d-6501-4070-b116-af56c3d46650",
   "metadata": {},
   "outputs": [
    {
     "name": "stdout",
     "output_type": "stream",
     "text": [
      "Overwriting EJERCICIO_1.cpp\n"
     ]
    }
   ],
   "source": [
    "%%writefile EJERCICIO_1.cpp\n",
    "\n",
    "#include <iostream>\n",
    "using namespace std;\n",
    "\n",
    "int main(){\n",
    "    // Se recorre la variable i de 1 a 10\n",
    "    for(int i = 1; i <= 10; i++){\n",
    "        cout << \"i = \" << i << endl;\n",
    "    }\n",
    "    // Mensaje final\n",
    "    cout << \"Realizado\" << endl;\n",
    "    return 0;\n",
    "}\n",
    "\n"
   ]
  },
  {
   "cell_type": "code",
   "execution_count": 6,
   "id": "606028c2-1bd1-4346-bc3a-4756904de21b",
   "metadata": {},
   "outputs": [],
   "source": [
    "!g++  EJERCICIO_1.cpp -o EJERCICIO_1"
   ]
  },
  {
   "cell_type": "code",
   "execution_count": 9,
   "id": "de88bc87-75d6-4c0e-abdd-1eb3b41d4620",
   "metadata": {},
   "outputs": [
    {
     "name": "stdout",
     "output_type": "stream",
     "text": [
      "Writing ejercicio_2.cpp\n"
     ]
    }
   ],
   "source": [
    "%%writefile ejercicio_2.cpp\n",
    "#include <iostream>\n",
    "using namespace std;\n",
    "\n",
    "int main(){\n",
    "    // Imprime el enunciado inicial\n",
    "    cout << \"Se van a imprimir valores con incremento de 2:\" << endl;\n",
    "    // Imprime valores de 0 a 10 (por ejemplo) incrementando de 2 en 2\n",
    "    for (int i = 0; i <= 10; i += 2) {\n",
    "        cout << i << endl;\n",
    "    }\n",
    "    // Mensaje final\n",
    "    cout << \"Realizado\" << endl;\n",
    "    return 0;\n",
    "}\n",
    "\n",
    "\n"
   ]
  },
  {
   "cell_type": "code",
   "execution_count": 10,
   "id": "a0fb838b-8119-4e14-b6cb-6d10bd83ba7d",
   "metadata": {},
   "outputs": [],
   "source": [
    "!g++ ejercicio_2.cpp -o ejercicio_2"
   ]
  },
  {
   "cell_type": "code",
   "execution_count": 11,
   "id": "6da30c33-7403-4e8b-b436-a1a1c59bc088",
   "metadata": {},
   "outputs": [
    {
     "name": "stdout",
     "output_type": "stream",
     "text": [
      "Writing ejercicio_3.cpp\n"
     ]
    }
   ],
   "source": [
    "%%writefile ejercicio_3.cpp\n",
    "#include <iostream>\n",
    "using namespace std;\n",
    "\n",
    "int main(){\n",
    "    // Se utiliza '_' como variable de bucle (convención para indicar que no se usa fuera del loop)\n",
    "    for(int _ = 1; _ <= 10; _++){\n",
    "        cout << \"Valor: \" << _ << endl;\n",
    "    }\n",
    "    cout << \"Realizado\" << endl;\n",
    "    return 0;\n",
    "}\n"
   ]
  },
  {
   "cell_type": "code",
   "execution_count": 12,
   "id": "a3de2957-cc62-4ff4-b132-3331496b6f93",
   "metadata": {},
   "outputs": [],
   "source": [
    "!g++ ejercicio_3.cpp -o ejercicio_3"
   ]
  },
  {
   "cell_type": "code",
   "execution_count": 15,
   "id": "1fd214e1-1c5b-48b4-9bf5-5992e180db38",
   "metadata": {},
   "outputs": [
    {
     "name": "stdout",
     "output_type": "stream",
     "text": [
      "Writing ejercicio_4.cpp\n"
     ]
    }
   ],
   "source": [
    "%%writefile ejercicio_4.cpp\n",
    "#include <iostream>\n",
    "using namespace std;\n",
    "\n",
    "int main(){\n",
    "    int numero;\n",
    "    cout << \"Ingrese un número para comparar: \";\n",
    "    cin >> numero;\n",
    "\n",
    "    bool completado = true;\n",
    "    for(int i = 1; i <= 5; i++){\n",
    "        // Imprime el valor de i\n",
    "        cout << \"i = \" << i << endl;\n",
    "        // Si el valor de i supera el número ingresado, se interrumpe\n",
    "        if(i > numero){\n",
    "            completado = false;\n",
    "            break;\n",
    "        }\n",
    "    }\n",
    "    // Si todas las iteraciones se completaron, se imprime \"Hecho\"\n",
    "    if(completado){\n",
    "        cout << \"Hecho\" << endl;\n",
    "    }\n",
    "    return 0;\n",
    "}\n",
    "\n"
   ]
  },
  {
   "cell_type": "code",
   "execution_count": 16,
   "id": "f4d9140e-8f00-438e-8f8c-282c1233ab0a",
   "metadata": {},
   "outputs": [],
   "source": [
    "!g++ ejercicio_4.cpp -o ejercicio_4"
   ]
  },
  {
   "cell_type": "code",
   "execution_count": 21,
   "id": "a1e3f1b8-566f-4cd0-8aa4-45f9ff8ca9bd",
   "metadata": {},
   "outputs": [
    {
     "name": "stdout",
     "output_type": "stream",
     "text": [
      "Writing ejercicio_5.cpp\n"
     ]
    }
   ],
   "source": [
    "%%writefile ejercicio_5.cpp\n",
    "#include <iostream>\n",
    "using namespace std;\n",
    "\n",
    "int main(){\n",
    "    cout << \"Se imprimirán los números y se indicará si son pares:\" << endl;\n",
    "    for (int num = 1; num <= 10; num++){\n",
    "        cout << \"Dado el número: \" << num;\n",
    "        // Verifica si el número es par\n",
    "        if(num % 2 == 0){\n",
    "            cout << \" es un número par y amamos los números pares\";\n",
    "        }\n",
    "        cout << endl;\n",
    "    }\n",
    "    return 0;\n",
    "}\n"
   ]
  },
  {
   "cell_type": "code",
   "execution_count": 22,
   "id": "56dbe736-3b84-41d5-b37c-ad2384a7df87",
   "metadata": {},
   "outputs": [],
   "source": [
    "!g++ ejercicio_5.cpp -o ejercicio_5"
   ]
  },
  {
   "cell_type": "code",
   "execution_count": 23,
   "id": "4f079b27-99b0-470f-ba6e-15525febfd82",
   "metadata": {},
   "outputs": [
    {
     "name": "stdout",
     "output_type": "stream",
     "text": [
      "Writing ejercicio_6.cpp\n"
     ]
    }
   ],
   "source": [
    "%%writefile ejercicio_6.cpp\n",
    "#include <iostream>\n",
    "using namespace std;\n",
    "\n",
    "int main(){\n",
    "    int contador = 0;\n",
    "    while(contador < 10){\n",
    "        cout << \"Contador: \" << contador << endl;\n",
    "        contador++;\n",
    "    }\n",
    "    return 0;\n",
    "}\n"
   ]
  },
  {
   "cell_type": "code",
   "execution_count": 24,
   "id": "0b598372-35fa-445b-89fa-c26f92e4da0c",
   "metadata": {},
   "outputs": [],
   "source": [
    "!g++ ejercicio_6.cpp -o ejercicio_6"
   ]
  },
  {
   "cell_type": "code",
   "execution_count": 25,
   "id": "a7c583a0-9e48-4e7e-b1bf-1964c697a080",
   "metadata": {},
   "outputs": [
    {
     "name": "stdout",
     "output_type": "stream",
     "text": [
      "Writing ejercicio_7.cpp\n"
     ]
    }
   ],
   "source": [
    "%%writefile ejercicio_7.cpp \n",
    "#include <iostream>\n",
    "using namespace std;\n",
    "\n",
    "// Función pseudoaleatoria (LCG simple)\n",
    "int pseudoRandom(){\n",
    "    static unsigned int semilla = 12345; // semilla fija para este ejemplo\n",
    "    semilla = (semilla * 1103515245u + 12345u) % 2147483648u;\n",
    "    return semilla;\n",
    "}\n",
    "\n",
    "int main(){\n",
    "    char respuesta = 's';\n",
    "    while(respuesta == 's' || respuesta == 'S'){\n",
    "        cout << \"Tire los dados...\" << endl;\n",
    "        // Genera valores entre 1 y 6 usando la función pseudoaleatoria\n",
    "        int dado1 = (pseudoRandom() % 6) + 1;\n",
    "        int dado2 = (pseudoRandom() % 6) + 1;\n",
    "        cout << \"Los valores son: \" << dado1 << \" y \" << dado2 << endl;\n",
    "        cout << \"¿Quieres tirar los dados nuevamente? (s/n): \";\n",
    "        cin >> respuesta;\n",
    "    }\n",
    "    return 0;\n",
    "}\n"
   ]
  },
  {
   "cell_type": "code",
   "execution_count": 26,
   "id": "0de09c02-ff80-4c2a-8f82-2cc84fc73081",
   "metadata": {},
   "outputs": [],
   "source": [
    "!g++ ejercicio_7.cpp -o ejercicio_7"
   ]
  },
  {
   "cell_type": "code",
   "execution_count": 32,
   "id": "8b2e9bd3-717a-46ad-a8d2-850fc8deb0e4",
   "metadata": {},
   "outputs": [
    {
     "name": "stdout",
     "output_type": "stream",
     "text": [
      "Overwriting ejercicio_8.cpp\n"
     ]
    }
   ],
   "source": [
    "%%writefile ejercicio_8.cpp\n",
    "#include <iostream>\n",
    "#include <string>\n",
    "#include <iomanip>\n",
    "using namespace std;\n",
    "\n",
    "const int PENNIES_PER_NICKEL = 5;\n",
    "const double NICKEL = 0.05;\n",
    "\n",
    "class Ejercicio9 {\n",
    "public:\n",
    "    void ejecutar() {\n",
    "        double total;\n",
    "        cout << \"Ingrese el total de la compra: \";\n",
    "        cin >> total;\n",
    "\n",
    "        int centavos = total * 100;  \n",
    "        int redondeado = (centavos + PENNIES_PER_NICKEL / 2) / PENNIES_PER_NICKEL * PENNIES_PER_NICKEL;\n",
    "        double totalRedondeado = redondeado / 100.0;\n",
    "\n",
    "        cout << fixed << setprecision(2);\n",
    "        cout << \"Total redondeado: $\" << totalRedondeado << endl;\n",
    "    }\n",
    "};\n",
    "\n",
    "int main() {\n",
    "\n",
    "    return 0;\n",
    "}\n"
   ]
  },
  {
   "cell_type": "code",
   "execution_count": 33,
   "id": "5ac95dbc-875b-4fde-80d9-42d43ceed077",
   "metadata": {},
   "outputs": [],
   "source": [
    "!g++ ejercicio_8.cpp -o ejercicio_8"
   ]
  },
  {
   "cell_type": "code",
   "execution_count": 34,
   "id": "0367c239-b053-4ef9-a4de-3057c4cc91a9",
   "metadata": {},
   "outputs": [
    {
     "name": "stdout",
     "output_type": "stream",
     "text": [
      "Overwriting ejercicio_9.cpp\n"
     ]
    }
   ],
   "source": [
    "%%writefile ejercicio_9.cpp\n",
    "#include <iostream>\n",
    "using namespace std;\n",
    "\n",
    "class Ejercicio10 {\n",
    "public:\n",
    "    void ejecutar() {\n",
    "        int num, factorial = 1;\n",
    "        cout << \"Ingrese un número para calcular su factorial: \";\n",
    "        cin >> num;\n",
    "\n",
    "        for (int i = 1; i <= num; i++) {\n",
    "            factorial *= i;\n",
    "        }\n",
    "\n",
    "        cout << \"El factorial de \" << num << \" es: \" << factorial << endl;\n",
    "    }\n",
    "};\n",
    "\n",
    "int main() {\n",
    "    return 0;\n",
    "}\n"
   ]
  },
  {
   "cell_type": "code",
   "execution_count": 35,
   "id": "63125bb9-4190-457a-89cc-074e9cd60b29",
   "metadata": {},
   "outputs": [],
   "source": [
    "!g++ ejercicio_9.cpp -o ejercicio_9"
   ]
  },
  {
   "cell_type": "code",
   "execution_count": null,
   "id": "103cdb49-c778-4be5-94cf-305c7d7f021d",
   "metadata": {},
   "outputs": [],
   "source": []
  }
 ],
 "metadata": {
  "kernelspec": {
   "display_name": "Python 3 (ipykernel)",
   "language": "python",
   "name": "python3"
  },
  "language_info": {
   "codemirror_mode": {
    "name": "ipython",
    "version": 3
   },
   "file_extension": ".py",
   "mimetype": "text/x-python",
   "name": "python",
   "nbconvert_exporter": "python",
   "pygments_lexer": "ipython3",
   "version": "3.12.3"
  }
 },
 "nbformat": 4,
 "nbformat_minor": 5
}
