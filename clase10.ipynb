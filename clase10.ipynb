{
 "cells": [
  {
   "cell_type": "code",
   "execution_count": 5,
   "id": "ef4d6e8f-f5fc-47a7-a60d-658c171ba33b",
   "metadata": {},
   "outputs": [
    {
     "name": "stderr",
     "output_type": "stream",
     "text": [
      "UsageError: Cell magic `%%wirtefile` not found.\n"
     ]
    }
   ],
   "source": [
    "%%wirtefile main.cpp\n",
    "\n",
    "#include <iostream>\n",
    "#include \"TPersona.h\"\n",
    "\n",
    "int main()\n",
    "{\n",
    "    TPersona Persona(\"0901112901234\");\n",
    "    std::cout << \"Fecha de nacimiento: \" << Persona.getFechaNac().Dia << \"/\" << Persona.getFechaNac().Anyo << \"\\n\";\n",
    "    std::cout << \"sexo: \" << Persona.getSexo() zz \"\\n\";\n",
    "    std::cout << \"Estructuras en c++!\\n\";\n",
    "\n",
    "    return 0;\n",
    "}"
   ]
  },
  {
   "cell_type": "code",
   "execution_count": 6,
   "id": "50e76923-77c6-4c7d-a206-f922c89fc50c",
   "metadata": {},
   "outputs": [
    {
     "name": "stdout",
     "output_type": "stream",
     "text": [
      "\u001b[01m\u001b[Kcc1plus:\u001b[m\u001b[K \u001b[01;31m\u001b[Kfatal error: \u001b[m\u001b[Kmain.cpp: No such file or directory\n",
      "compilation terminated.\n"
     ]
    }
   ],
   "source": [
    "!g++ main.cpp -o main"
   ]
  },
  {
   "cell_type": "code",
   "execution_count": 8,
   "id": "47cce788-366a-43a3-ad09-cc5d9a9788a7",
   "metadata": {},
   "outputs": [
    {
     "name": "stdout",
     "output_type": "stream",
     "text": [
      "Overwriting fechas.cpp\n"
     ]
    }
   ],
   "source": [
    "%%writefile fechas.cpp\n",
    "\n",
    "#include <string>\n",
    "\n",
    "struct Fecha\n",
    " {\n",
    "     int Dia;\n",
    "     int Mes;\n",
    "     int Anyo;\n",
    " };\n",
    "typedef struct Fecha FECHA;\n",
    "class TPersona\n",
    "{\n",
    "public:\n",
    "    FECHA FFechaNac;\n",
    "    char FSexo\n",
    "}\n",
    "{\n",
    "public:\n",
    "    TPersona(std::string NumeroIdentdad);\n",
    "     TPersona();\n",
    "    Fecha getFechaNac();\n",
    "    char getSexo();\n",
    "};"
   ]
  },
  {
   "cell_type": "code",
   "execution_count": 10,
   "id": "a8a10dfc-3d45-45f8-b67f-4c6d32d41dc4",
   "metadata": {},
   "outputs": [
    {
     "name": "stdout",
     "output_type": "stream",
     "text": [
      "\u001b[01m\u001b[Kfechas.cpp:8:10:\u001b[m\u001b[K \u001b[01;31m\u001b[Kerror: \u001b[m\u001b[Kexpected ‘\u001b[01m\u001b[K;\u001b[m\u001b[K’ at end of member declaration\n",
      "    8 |      int \u001b[01;31m\u001b[KAnyo\u001b[m\u001b[K\n",
      "      |          \u001b[01;31m\u001b[K^~~~\u001b[m\u001b[K\n",
      "      |              \u001b[32m\u001b[K;\u001b[m\u001b[K\n",
      "\u001b[01m\u001b[Kfechas.cpp:15:10:\u001b[m\u001b[K \u001b[01;31m\u001b[Kerror: \u001b[m\u001b[Kexpected ‘\u001b[01m\u001b[K;\u001b[m\u001b[K’ at end of member declaration\n",
      "   15 |     char \u001b[01;31m\u001b[KFSexo\u001b[m\u001b[K\n",
      "      |          \u001b[01;31m\u001b[K^~~~~\u001b[m\u001b[K\n",
      "      |               \u001b[32m\u001b[K;\u001b[m\u001b[K\n",
      "\u001b[01m\u001b[Kfechas.cpp:16:2:\u001b[m\u001b[K \u001b[01;31m\u001b[Kerror: \u001b[m\u001b[Kexpected ‘\u001b[01m\u001b[K;\u001b[m\u001b[K’ after class definition\n",
      "   16 | }\n",
      "      |  \u001b[01;31m\u001b[K^\u001b[m\u001b[K\n",
      "      |  \u001b[32m\u001b[K;\u001b[m\u001b[K\n",
      "\u001b[01m\u001b[Kfechas.cpp:17:1:\u001b[m\u001b[K \u001b[01;31m\u001b[Kerror: \u001b[m\u001b[Kexpected unqualified-id before ‘\u001b[01m\u001b[K{\u001b[m\u001b[K’ token\n",
      "   17 | \u001b[01;31m\u001b[K{\u001b[m\u001b[K\n",
      "      | \u001b[01;31m\u001b[K^\u001b[m\u001b[K\n"
     ]
    }
   ],
   "source": [
    "!g++ fechas.cpp -o fechas"
   ]
  },
  {
   "cell_type": "code",
   "execution_count": null,
   "id": "e128c57d-a7a3-4f7e-855f-da75a10eaf88",
   "metadata": {},
   "outputs": [],
   "source": [
    "%%writefile TPersona.cpp\n",
    "\n",
    "#include \"Tpersona.h\"\n",
    "\n",
    "TPersona::TPersona(std::string NumeroIdentidad)\n",
    "{\n",
    "    std::string dia;\n",
    "    std::string mes;\n",
    "    std::string anyo;\n",
    "    int sexo;\n",
    "    dia = NumeroIdentidad.substr(5, 2);\n",
    "    mes = NumeroIdentidad.substr(3, 2);\n",
    "    anyo = NumeroIdentidad.substr(1, 2);\n",
    "    FFechaNac.Dia = std::stoi(dia);\n",
    "    FFechaNac.Mes = std::stoi(mes);\n",
    "    FFechaNac.Anyo = std::stoi(anyo);\n",
    "    sexo = std::stoi(NumeroIdentidad.substr(10,1));\n",
    "    if ((sexo % 2) == 0)\n",
    "        FSexo = 'M';\n",
    "    else \n",
    "        FSexo = 'F'\n",
    "\n",
    "}\n",
    "\n",
    "TPersona::-TPersona(){}\n",
    "Fecha TPersona::getFechaNac()\n",
    "{\n",
    "    return FechaNac;\n",
    "}\n",
    "{\n",
    "char TPersona::getSexo()\n",
    "}\n",
    "{\n",
    "    return FSexo;\n",
    "}\n"
   ]
  }
 ],
 "metadata": {
  "kernelspec": {
   "display_name": "Python 3 (ipykernel)",
   "language": "python",
   "name": "python3"
  },
  "language_info": {
   "codemirror_mode": {
    "name": "ipython",
    "version": 3
   },
   "file_extension": ".py",
   "mimetype": "text/x-python",
   "name": "python",
   "nbconvert_exporter": "python",
   "pygments_lexer": "ipython3",
   "version": "3.12.3"
  }
 },
 "nbformat": 4,
 "nbformat_minor": 5
}
